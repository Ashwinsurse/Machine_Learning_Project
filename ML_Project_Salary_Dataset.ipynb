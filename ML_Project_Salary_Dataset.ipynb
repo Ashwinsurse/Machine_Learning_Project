{
  "nbformat": 4,
  "nbformat_minor": 0,
  "metadata": {
    "colab": {
      "name": "ML_Project_Salary_Dataset.ipynb",
      "provenance": [],
      "collapsed_sections": []
    },
    "kernelspec": {
      "name": "python3",
      "display_name": "Python 3"
    },
    "language_info": {
      "name": "python"
    }
  },
  "cells": [
    {
      "cell_type": "markdown",
      "metadata": {
        "id": "eTxcWDEIXqMV"
      },
      "source": [
        "# **Salary Dataset**"
      ]
    },
    {
      "cell_type": "markdown",
      "metadata": {
        "id": "X0O-3AdRVoU6"
      },
      "source": [
        "This data consists of salary and years of experience of 35 jobholders. Where I will try to show the relationship between salary and years of experience."
      ]
    },
    {
      "cell_type": "markdown",
      "metadata": {
        "id": "0YTWWcCAVp6y"
      },
      "source": [
        "**Importing important Libraries and Loading Dataset.**\n",
        "\n",
        "Numpy:- In this Project we are using 'Numpy' Library for Numbers Operation here.\n",
        "\n",
        "Pandas:- In this Project we are using 'Pandas' Library for EDA and data related task.\n",
        "\n",
        "Matplotlib:- 'Matplotlib' we are using for Visualization Purpose.\n",
        "\n",
        "Seaborn:- With the help of 'Seaborn' we can visualize the data in advanced form"
      ]
    },
    {
      "cell_type": "code",
      "metadata": {
        "id": "iWYEJ2lrR9u7"
      },
      "source": [
        "import pandas as pd\n",
        "import numpy as np\n",
        "import matplotlib.pyplot as plt\n",
        "import seaborn as sns"
      ],
      "execution_count": 1,
      "outputs": []
    },
    {
      "cell_type": "code",
      "metadata": {
        "colab": {
          "base_uri": "https://localhost:8080/",
          "height": 206
        },
        "id": "YDbj2WOsSLdi",
        "outputId": "71e54a4a-7931-4612-c6b6-3dadeef0b91b"
      },
      "source": [
        "# loading Dataset\n",
        "\n",
        "df = pd.read_csv('Salary.csv')\n",
        "df.head()"
      ],
      "execution_count": 2,
      "outputs": [
        {
          "output_type": "execute_result",
          "data": {
            "text/html": [
              "<div>\n",
              "<style scoped>\n",
              "    .dataframe tbody tr th:only-of-type {\n",
              "        vertical-align: middle;\n",
              "    }\n",
              "\n",
              "    .dataframe tbody tr th {\n",
              "        vertical-align: top;\n",
              "    }\n",
              "\n",
              "    .dataframe thead th {\n",
              "        text-align: right;\n",
              "    }\n",
              "</style>\n",
              "<table border=\"1\" class=\"dataframe\">\n",
              "  <thead>\n",
              "    <tr style=\"text-align: right;\">\n",
              "      <th></th>\n",
              "      <th>YearsExperience</th>\n",
              "      <th>Salary</th>\n",
              "    </tr>\n",
              "  </thead>\n",
              "  <tbody>\n",
              "    <tr>\n",
              "      <th>0</th>\n",
              "      <td>1.1</td>\n",
              "      <td>39343</td>\n",
              "    </tr>\n",
              "    <tr>\n",
              "      <th>1</th>\n",
              "      <td>1.3</td>\n",
              "      <td>46205</td>\n",
              "    </tr>\n",
              "    <tr>\n",
              "      <th>2</th>\n",
              "      <td>1.5</td>\n",
              "      <td>37731</td>\n",
              "    </tr>\n",
              "    <tr>\n",
              "      <th>3</th>\n",
              "      <td>2.0</td>\n",
              "      <td>43525</td>\n",
              "    </tr>\n",
              "    <tr>\n",
              "      <th>4</th>\n",
              "      <td>2.2</td>\n",
              "      <td>39891</td>\n",
              "    </tr>\n",
              "  </tbody>\n",
              "</table>\n",
              "</div>"
            ],
            "text/plain": [
              "   YearsExperience  Salary\n",
              "0              1.1   39343\n",
              "1              1.3   46205\n",
              "2              1.5   37731\n",
              "3              2.0   43525\n",
              "4              2.2   39891"
            ]
          },
          "metadata": {},
          "execution_count": 2
        }
      ]
    },
    {
      "cell_type": "code",
      "metadata": {
        "colab": {
          "base_uri": "https://localhost:8080/"
        },
        "id": "TU8Zs9GGSNzm",
        "outputId": "7122417e-c80b-4027-8d2c-6aabbb68b701"
      },
      "source": [
        "# Checking Null value\n",
        "\n",
        "df.isnull().sum()"
      ],
      "execution_count": 3,
      "outputs": [
        {
          "output_type": "execute_result",
          "data": {
            "text/plain": [
              "YearsExperience    0\n",
              "Salary             0\n",
              "dtype: int64"
            ]
          },
          "metadata": {},
          "execution_count": 3
        }
      ]
    },
    {
      "cell_type": "code",
      "metadata": {
        "colab": {
          "base_uri": "https://localhost:8080/",
          "height": 286
        },
        "id": "GQDM4OBOTJhC",
        "outputId": "f5b6cb9b-9c0d-4e10-8ced-e736ef9dbd30"
      },
      "source": [
        "# Checking the Correalation between available column in dataset using heatmap (seaborn).\n",
        "\n",
        "corr =df.corr()\n",
        "sns.heatmap(corr)"
      ],
      "execution_count": 4,
      "outputs": [
        {
          "output_type": "execute_result",
          "data": {
            "text/plain": [
              "<matplotlib.axes._subplots.AxesSubplot at 0x7f6d02211110>"
            ]
          },
          "metadata": {},
          "execution_count": 4
        },
        {
          "output_type": "display_data",
          "data": {
            "image/png": "[encoded data removed]",
            "text/plain": [
              "<Figure size 432x288 with 2 Axes>"
            ]
          },
          "metadata": {
            "needs_background": "light"
          }
        }
      ]
    },
    {
      "cell_type": "code",
      "metadata": {
        "colab": {
          "base_uri": "https://localhost:8080/",
          "height": 279
        },
        "id": "Cb9QZS5uSQfv",
        "outputId": "2a347de1-3652-4407-c902-ef11b2db9862"
      },
      "source": [
        "# Plotting Years of Experience vs Salary \n",
        "\n",
        "plt.plot(df['YearsExperience'], df['Salary'])\n",
        "plt.xlabel('Years of Experience')\n",
        "plt.ylabel('Salary')\n",
        "plt.show()"
      ],
      "execution_count": 5,
      "outputs": [
        {
          "output_type": "display_data",
          "data": {
            "image/png": "[encoded data removed]",
            "text/plain": [
              "<Figure size 432x288 with 1 Axes>"
            ]
          },
          "metadata": {
            "needs_background": "light"
          }
        }
      ]
    },
    {
      "cell_type": "code",
      "metadata": {
        "colab": {
          "base_uri": "https://localhost:8080/",
          "height": 206
        },
        "id": "sgEjjHO0SSun",
        "outputId": "f295d124-71d0-4039-b53f-e7579fe1e03f"
      },
      "source": [
        "# Separating X (features) and y (labels) then printing all the features\n",
        "\n",
        "X = df.iloc[:,:-1]\n",
        "y = df.iloc[:,-1]\n",
        "X.head()"
      ],
      "execution_count": 6,
      "outputs": [
        {
          "output_type": "execute_result",
          "data": {
            "text/html": [
              "<div>\n",
              "<style scoped>\n",
              "    .dataframe tbody tr th:only-of-type {\n",
              "        vertical-align: middle;\n",
              "    }\n",
              "\n",
              "    .dataframe tbody tr th {\n",
              "        vertical-align: top;\n",
              "    }\n",
              "\n",
              "    .dataframe thead th {\n",
              "        text-align: right;\n",
              "    }\n",
              "</style>\n",
              "<table border=\"1\" class=\"dataframe\">\n",
              "  <thead>\n",
              "    <tr style=\"text-align: right;\">\n",
              "      <th></th>\n",
              "      <th>YearsExperience</th>\n",
              "    </tr>\n",
              "  </thead>\n",
              "  <tbody>\n",
              "    <tr>\n",
              "      <th>0</th>\n",
              "      <td>1.1</td>\n",
              "    </tr>\n",
              "    <tr>\n",
              "      <th>1</th>\n",
              "      <td>1.3</td>\n",
              "    </tr>\n",
              "    <tr>\n",
              "      <th>2</th>\n",
              "      <td>1.5</td>\n",
              "    </tr>\n",
              "    <tr>\n",
              "      <th>3</th>\n",
              "      <td>2.0</td>\n",
              "    </tr>\n",
              "    <tr>\n",
              "      <th>4</th>\n",
              "      <td>2.2</td>\n",
              "    </tr>\n",
              "  </tbody>\n",
              "</table>\n",
              "</div>"
            ],
            "text/plain": [
              "   YearsExperience\n",
              "0              1.1\n",
              "1              1.3\n",
              "2              1.5\n",
              "3              2.0\n",
              "4              2.2"
            ]
          },
          "metadata": {},
          "execution_count": 6
        }
      ]
    },
    {
      "cell_type": "code",
      "metadata": {
        "colab": {
          "base_uri": "https://localhost:8080/"
        },
        "id": "sPsm9gsHSWme",
        "outputId": "566b7f5f-da65-4716-9964-e15de83c36a2"
      },
      "source": [
        "# Printing label\n",
        "\n",
        "y"
      ],
      "execution_count": 7,
      "outputs": [
        {
          "output_type": "execute_result",
          "data": {
            "text/plain": [
              "0      39343\n",
              "1      46205\n",
              "2      37731\n",
              "3      43525\n",
              "4      39891\n",
              "5      56642\n",
              "6      60150\n",
              "7      54445\n",
              "8      64445\n",
              "9      57189\n",
              "10     63218\n",
              "11     55794\n",
              "12     56957\n",
              "13     57081\n",
              "14     61111\n",
              "15     67938\n",
              "16     66029\n",
              "17     83088\n",
              "18     81363\n",
              "19     93940\n",
              "20     91738\n",
              "21     98273\n",
              "22    101302\n",
              "23    113812\n",
              "24    109431\n",
              "25    105582\n",
              "26    116969\n",
              "27    112635\n",
              "28    122391\n",
              "29    121872\n",
              "30    127345\n",
              "31    126756\n",
              "32    128765\n",
              "33    135675\n",
              "34    139465\n",
              "Name: Salary, dtype: int64"
            ]
          },
          "metadata": {},
          "execution_count": 7
        }
      ]
    },
    {
      "cell_type": "code",
      "metadata": {
        "id": "2NeMTkQdSZbp"
      },
      "source": [
        "# Importing train test split from sklearn and spliting the data in train and test part\n",
        "\n",
        "from sklearn.model_selection import train_test_split\n",
        "X_train, X_test, y_train, y_test = train_test_split(X, y, test_size=0.2, random_state=0)\n"
      ],
      "execution_count": 8,
      "outputs": []
    },
    {
      "cell_type": "code",
      "metadata": {
        "id": "mhbYOoHDSc2y"
      },
      "source": [
        "# Importing Linear Regression Model and then creating a variable for it.\n",
        "\n",
        "from sklearn.linear_model import LinearRegression\n",
        "reg = LinearRegression()"
      ],
      "execution_count": 9,
      "outputs": []
    },
    {
      "cell_type": "code",
      "metadata": {
        "colab": {
          "base_uri": "https://localhost:8080/"
        },
        "id": "oyCFiOxvSf9r",
        "outputId": "e66825eb-83eb-484c-8d18-80d5262499f3"
      },
      "source": [
        "# fitting Linear Regression\n",
        "\n",
        "reg.fit(X_train, y_train)"
      ],
      "execution_count": 10,
      "outputs": [
        {
          "output_type": "execute_result",
          "data": {
            "text/plain": [
              "LinearRegression(copy_X=True, fit_intercept=True, n_jobs=None, normalize=False)"
            ]
          },
          "metadata": {},
          "execution_count": 10
        }
      ]
    },
    {
      "cell_type": "code",
      "metadata": {
        "colab": {
          "base_uri": "https://localhost:8080/"
        },
        "id": "fM95vQwSSkVm",
        "outputId": "23c8c356-96a8-41c7-e29a-366de2e8d26b"
      },
      "source": [
        "# Checking the value of coefficient 'm' in equation (y=mx+c).\n",
        "\n",
        "reg.coef_"
      ],
      "execution_count": 11,
      "outputs": [
        {
          "output_type": "execute_result",
          "data": {
            "text/plain": [
              "array([8629.79240044])"
            ]
          },
          "metadata": {},
          "execution_count": 11
        }
      ]
    },
    {
      "cell_type": "code",
      "metadata": {
        "colab": {
          "base_uri": "https://localhost:8080/"
        },
        "id": "7Tsfk6UsSqHa",
        "outputId": "9395d7ea-0096-4fd9-f1a9-4edf9a2d726a"
      },
      "source": [
        "# Checking the value of Intercept point that is 'c' in equation (y=mx+c).\n",
        "\n",
        "reg.intercept_"
      ],
      "execution_count": 12,
      "outputs": [
        {
          "output_type": "execute_result",
          "data": {
            "text/plain": [
              "29445.056520181286"
            ]
          },
          "metadata": {},
          "execution_count": 12
        }
      ]
    },
    {
      "cell_type": "code",
      "metadata": {
        "id": "ICefSoFASsTe"
      },
      "source": [
        "# predicting the Model\n",
        "\n",
        "y_pred = reg.predict(X_test)"
      ],
      "execution_count": 13,
      "outputs": []
    },
    {
      "cell_type": "code",
      "metadata": {
        "colab": {
          "base_uri": "https://localhost:8080/",
          "height": 279
        },
        "id": "I0lTRlXwSvZc",
        "outputId": "55f9767d-91e0-469c-9ef6-85ed6e6ade92"
      },
      "source": [
        "# plotting the best fit line on training dataset.\n",
        "\n",
        "plt.scatter(X_train, y_train, color='r')\n",
        "plt.plot(X_train, reg.predict(X_train), color ='blue')\n",
        "plt.xlabel('Years of Experience')\n",
        "plt.ylabel('Salary of Person')\n",
        "plt.show()"
      ],
      "execution_count": 14,
      "outputs": [
        {
          "output_type": "display_data",
          "data": {
            "image/png": "[encoded data removed]",
            "text/plain": [
              "<Figure size 432x288 with 1 Axes>"
            ]
          },
          "metadata": {
            "needs_background": "light"
          }
        }
      ]
    },
    {
      "cell_type": "code",
      "metadata": {
        "colab": {
          "base_uri": "https://localhost:8080/",
          "height": 279
        },
        "id": "HLgGDzXcSy8r",
        "outputId": "743092ad-5ad8-45b4-9529-d17cdadaf2cc"
      },
      "source": [
        "# plotting the best fit line on testing dataset for prediction.\n",
        "\n",
        "plt.scatter(X_test, y_test, color='orange')\n",
        "plt.plot(X_test, reg.predict(X_test), color='green')\n",
        "plt.xlabel('Years of Experience')\n",
        "plt.ylabel('Salary of Person')\n",
        "plt.show()"
      ],
      "execution_count": 15,
      "outputs": [
        {
          "output_type": "display_data",
          "data": {
            "image/png": "[encoded data removed]",
            "text/plain": [
              "<Figure size 432x288 with 1 Axes>"
            ]
          },
          "metadata": {
            "needs_background": "light"
          }
        }
      ]
    },
    {
      "cell_type": "code",
      "metadata": {
        "id": "LFKSANpyS4uW"
      },
      "source": [
        "# Importing r2 from sklearn metrics checking the accuracy score with the help of r2\n",
        "\n",
        "from sklearn.metrics import r2_score"
      ],
      "execution_count": 16,
      "outputs": []
    },
    {
      "cell_type": "code",
      "metadata": {
        "colab": {
          "base_uri": "https://localhost:8080/"
        },
        "id": "I2LatOyfS8o6",
        "outputId": "27cebe46-249e-497d-a412-76935ecd77f0"
      },
      "source": [
        "r2_score(y_test, y_pred)"
      ],
      "execution_count": 17,
      "outputs": [
        {
          "output_type": "execute_result",
          "data": {
            "text/plain": [
              "0.9708090245443415"
            ]
          },
          "metadata": {},
          "execution_count": 17
        }
      ]
    },
    {
      "cell_type": "code",
      "metadata": {
        "id": "MxDahOwbUBCg"
      },
      "source": [
        ""
      ],
      "execution_count": 17,
      "outputs": []
    },
    {
      "cell_type": "markdown",
      "metadata": {
        "id": "3AQk8y13T5V_"
      },
      "source": [
        "**DecisionTreeRegressor**"
      ]
    },
    {
      "cell_type": "code",
      "metadata": {
        "id": "UNa7yI_QTpX8"
      },
      "source": [
        "# Imporiting 'Decision Tree Regressor' from sklearn library.\n",
        "\n",
        "from sklearn.tree import DecisionTreeRegressor"
      ],
      "execution_count": 18,
      "outputs": []
    },
    {
      "cell_type": "code",
      "metadata": {
        "id": "S9wHJUX_Tquo"
      },
      "source": [
        "# Creating a class for DecisionTree\n",
        "\n",
        "model = DecisionTreeRegressor()"
      ],
      "execution_count": 19,
      "outputs": []
    },
    {
      "cell_type": "code",
      "metadata": {
        "colab": {
          "base_uri": "https://localhost:8080/"
        },
        "id": "sgXO3iKwTs-r",
        "outputId": "75836d85-e9be-4150-871f-0bf195a6ea8d"
      },
      "source": [
        "# Fitting model with training dataset.\n",
        "\n",
        "model.fit(X_train, y_train)"
      ],
      "execution_count": 20,
      "outputs": [
        {
          "output_type": "execute_result",
          "data": {
            "text/plain": [
              "DecisionTreeRegressor(ccp_alpha=0.0, criterion='mse', max_depth=None,\n",
              "                      max_features=None, max_leaf_nodes=None,\n",
              "                      min_impurity_decrease=0.0, min_impurity_split=None,\n",
              "                      min_samples_leaf=1, min_samples_split=2,\n",
              "                      min_weight_fraction_leaf=0.0, presort='deprecated',\n",
              "                      random_state=None, splitter='best')"
            ]
          },
          "metadata": {},
          "execution_count": 20
        }
      ]
    },
    {
      "cell_type": "code",
      "metadata": {
        "colab": {
          "base_uri": "https://localhost:8080/"
        },
        "id": "Ecx2W1ksTwDC",
        "outputId": "64f570cb-dc67-432c-b9dc-a8a548263319"
      },
      "source": [
        "# Checking the accuracy of our Model.\n",
        "\n",
        "model.score(X_test, y_test)"
      ],
      "execution_count": 21,
      "outputs": [
        {
          "output_type": "execute_result",
          "data": {
            "text/plain": [
              "0.8215340443649769"
            ]
          },
          "metadata": {},
          "execution_count": 21
        }
      ]
    },
    {
      "cell_type": "code",
      "metadata": {
        "id": "bSN1uZtxT0Mt"
      },
      "source": [
        ""
      ],
      "execution_count": 21,
      "outputs": []
    },
    {
      "cell_type": "markdown",
      "metadata": {
        "id": "P9FVN8OSVM9V"
      },
      "source": [
        "**RandomForestRegressor**"
      ]
    },
    {
      "cell_type": "code",
      "metadata": {
        "id": "le2MSL6CUCtB"
      },
      "source": [
        "# Importing 'RandomForestRegressor'  from 'Ensemble' module using sklearn.\n",
        "\n",
        "from sklearn.ensemble import RandomForestRegressor"
      ],
      "execution_count": 22,
      "outputs": []
    },
    {
      "cell_type": "code",
      "metadata": {
        "id": "PpJPKIQXUfCZ"
      },
      "source": [
        "# Creating a class with the name of Model and then passing how many tree we want to use in this algorithm.\n",
        "\n",
        "model = RandomForestRegressor(n_estimators=50)"
      ],
      "execution_count": 23,
      "outputs": []
    },
    {
      "cell_type": "code",
      "metadata": {
        "colab": {
          "base_uri": "https://localhost:8080/"
        },
        "id": "0ajruz9JUjXW",
        "outputId": "e8bd807c-d5f3-48da-e9be-9851ff7acbf0"
      },
      "source": [
        "# Fitting our model on training dataset.\n",
        "\n",
        "model.fit(X_train, y_train)"
      ],
      "execution_count": 24,
      "outputs": [
        {
          "output_type": "execute_result",
          "data": {
            "text/plain": [
              "RandomForestRegressor(bootstrap=True, ccp_alpha=0.0, criterion='mse',\n",
              "                      max_depth=None, max_features='auto', max_leaf_nodes=None,\n",
              "                      max_samples=None, min_impurity_decrease=0.0,\n",
              "                      min_impurity_split=None, min_samples_leaf=1,\n",
              "                      min_samples_split=2, min_weight_fraction_leaf=0.0,\n",
              "                      n_estimators=50, n_jobs=None, oob_score=False,\n",
              "                      random_state=None, verbose=0, warm_start=False)"
            ]
          },
          "metadata": {},
          "execution_count": 24
        }
      ]
    },
    {
      "cell_type": "code",
      "metadata": {
        "colab": {
          "base_uri": "https://localhost:8080/"
        },
        "id": "hlDdUBCIUmS-",
        "outputId": "26978b7a-b7ee-4316-efe2-ec4f81a92c5b"
      },
      "source": [
        "# checking the accuracy level of Model.\n",
        "\n",
        "model.score(X_test, y_test)"
      ],
      "execution_count": 25,
      "outputs": [
        {
          "output_type": "execute_result",
          "data": {
            "text/plain": [
              "0.9136054818840291"
            ]
          },
          "metadata": {},
          "execution_count": 25
        }
      ]
    },
    {
      "cell_type": "code",
      "metadata": {
        "id": "EoCd_1vpUqNO"
      },
      "source": [
        ""
      ],
      "execution_count": 25,
      "outputs": []
    },
    {
      "cell_type": "markdown",
      "metadata": {
        "id": "dWAh-vmLU1g4"
      },
      "source": [
        "**As we have use few algorithm here. So you can see the better accuracy level according to algorithm below:**\n",
        "\n",
        "LinearRegression :- As you have seen above in 'LinearRegression' it's providing accuracy level = 97%.\n",
        "\n",
        "DecisionTreeRegressor :- As you have seen above in 'DecisionTreeRegressor' it's providing accuracy level = 82%.\n",
        "\n",
        "RandomForestRegressor :- As you have seen above in 'RandomForestRegressor' it's providing accuracy level = 90%.\n",
        "\n",
        "Note:- So as it clearly mentioned that we are getting higher accuracy level from 'LinearRegression' and 'RandomForestRegressor' So we'll use it for our Model."
      ]
    },
    {
      "cell_type": "code",
      "metadata": {
        "id": "pHz1NJipVbde"
      },
      "source": [
        ""
      ],
      "execution_count": 25,
      "outputs": []
    }
  ]
}